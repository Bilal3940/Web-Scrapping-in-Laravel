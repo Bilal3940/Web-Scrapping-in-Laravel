{
  "cells": [
    {
      "cell_type": "markdown",
      "metadata": {
        "id": "view-in-github",
        "colab_type": "text"
      },
      "source": [
        "<a href=\"https://colab.research.google.com/github/Bilal3940/Web-Scrapping-in-Laravel/blob/main/Web_Article_Scrapping.ipynb\" target=\"_parent\"><img src=\"https://colab.research.google.com/assets/colab-badge.svg\" alt=\"Open In Colab\"/></a>"
      ]
    },
    {
      "cell_type": "code",
      "source": [
        "import requests\n",
        "from bs4 import BeautifulSoup\n",
        "import pandas as pd\n",
        "import re\n"
      ],
      "metadata": {
        "id": "DS-u-4siJ4bV"
      },
      "id": "DS-u-4siJ4bV",
      "execution_count": 28,
      "outputs": []
    },
    {
      "cell_type": "code",
      "source": [
        "\n"
      ],
      "metadata": {
        "id": "eoczJFGDJ5nK"
      },
      "id": "eoczJFGDJ5nK",
      "execution_count": 2,
      "outputs": []
    },
    {
      "cell_type": "code",
      "source": [],
      "metadata": {
        "id": "VI3-C1fmKBAC"
      },
      "id": "VI3-C1fmKBAC",
      "execution_count": 3,
      "outputs": []
    },
    {
      "cell_type": "code",
      "source": [
        "def url_script(url):\n",
        "    page = requests.get(url).text\n",
        "    soup = BeautifulSoup(page,'lxml')\n",
        "    x = [ i.text for i in soup.find_all('p')]\n",
        "    print(url)\n",
        "    return x"
      ],
      "metadata": {
        "id": "fSTH2hBVKEnx"
      },
      "id": "fSTH2hBVKEnx",
      "execution_count": 20,
      "outputs": []
    },
    {
      "cell_type": "code",
      "source": [
        "def clean_data(data):\n",
        "    cleaned_data = []\n",
        "    for item in data:\n",
        "        # Apply regex patterns to clean the data\n",
        "        cleaned_item = re.sub(r'[^\\w\\s]', '', item)  # Example: Remove special characters\n",
        "        if cleaned_item.strip():  # Exclude empty strings\n",
        "            cleaned_data.append(cleaned_item.strip())\n",
        "    return cleaned_data"
      ],
      "metadata": {
        "id": "VP1WuFMABt8X"
      },
      "id": "VP1WuFMABt8X",
      "execution_count": 33,
      "outputs": []
    },
    {
      "cell_type": "code",
      "source": [
        "def save_to_csv(data, filename):\n",
        "    \"\"\"\n",
        "    Saves the extracted data to a CSV file.\n",
        "    \"\"\"\n",
        "    df = pd.DataFrame(data)\n",
        "    df.to_csv(f'/content/{filename}',index=False, encoding='utf-8')\n",
        "    print(df)\n"
      ],
      "metadata": {
        "id": "NYFYvNboKLQh"
      },
      "id": "NYFYvNboKLQh",
      "execution_count": 44,
      "outputs": []
    },
    {
      "cell_type": "code",
      "source": [],
      "metadata": {
        "id": "IOXAl8doBrH8"
      },
      "id": "IOXAl8doBrH8",
      "execution_count": null,
      "outputs": []
    },
    {
      "cell_type": "code",
      "source": [
        "def scrape_webpages(urls):\n",
        "    \"\"\"\n",
        "    Scrapes multiple web pages containing articles and suggestions.\n",
        "    \"\"\"\n",
        "    all_data = [] \n",
        "    for i, url in enumerate(urls):\n",
        "        article = url_script(url)\n",
        "        articles = clean_data(article)\n",
        "\n",
        "        # Save the data to separate CSV files for each web page\n",
        "        # save_to_csv(articles, f'articles_{i+1}.csv')\n",
        "\n",
        "        # Save the data to a single CSV file\n",
        "        all_data.extend(articles)\n",
        "        save_to_csv(all_data, 'data.csv')\n",
        "\n"
      ],
      "metadata": {
        "id": "mm4wLdP1KWdL"
      },
      "id": "mm4wLdP1KWdL",
      "execution_count": 52,
      "outputs": []
    },
    {
      "cell_type": "code",
      "source": [
        "urls = ['https://www.bbc.com/sport/cycling/65437136', 'https://www.bbc.com/sport/gymnastics/65426779','https://www.bbc.com/sport/football/65460670','https://www.bbc.com/sport/cricket/65460563','https://www.bbc.com/sport/football/65428602','https://www.bbc.com/sport/rugby-union/65443075','https://www.bbc.com/sport/american-football/65447163','https://www.bbc.com/sport/football/65443151','https://www.bbc.com/sport/boxing/65309816','https://www.bbc.com/sport/football/65438469']\n",
        "\n",
        "\n",
        "scrape_webpages(urls)\n"
      ],
      "metadata": {
        "id": "Elru0mpbKeRD",
        "colab": {
          "base_uri": "https://localhost:8080/"
        },
        "outputId": "4daa9e04-c530-4352-8d63-3d8c47e64dc5"
      },
      "id": "Elru0mpbKeRD",
      "execution_count": 53,
      "outputs": [
        {
          "output_type": "stream",
          "name": "stdout",
          "text": [
            "https://www.bbc.com/sport/cycling/65437136\n",
            "                                                    0\n",
            "0   Last updated on 29 April 202329 April 2023From...\n",
            "1   Adam Yates became the third British rider in f...\n",
            "2   The 30yearold won Saturdays stage four in the ...\n",
            "3   Yates has a 19second lead on American Matteo J...\n",
            "4   Britons Ethan Vernon and Ethan Hayter won stag...\n",
            "5   Yates had to come through a tough battle with ...\n",
            "6   In doing so he moved clear at the top of the o...\n",
            "7   Yates launched his attack 4km from the finish ...\n",
            "8   Its a really good performance from the team sa...\n",
            "9   Fellow Briton Max Poole sits fourth overall 38...\n",
            "10  The final stage will take place on Sunday over...\n",
            "11  1 Adam Yates GBUAE Team Emirates 4hrs 40mins 4...\n",
            "12             2 Thibaut Pinot FraGroupama  FDJ 7secs\n",
            "13      3 Damiano Caruso ItaBahrain Victorious 19secs\n",
            "14                      4 Max Poole GBTeam DSM 21secs\n",
            "15          5 Matteo Jorgenson USMovistar Team 21secs\n",
            "16  1 Adam Yates GBUAE Team Emirates 13hrs 14mins ...\n",
            "17          2 Matteo Jorgenson USMovistar Team 19secs\n",
            "18      3 Damiano Caruso ItaBahrain Victorious 27secs\n",
            "19                      4 Max Poole GBTeam DSM 38secs\n",
            "20            5 Thibaut Pinot FraGroupama  FDJ 41secs\n",
            "21  Find out how to get into cycling with our spec...\n",
            "22  Revelatory documentary detailing life in the J...\n",
            "23  Tales of tears triumphs occasional debauchery ...\n",
            "24  Darragh MacIntyre and Allison Morris revisit t...\n",
            "25  Gary Lineker Micah Richards and Alan Shearer d...\n",
            "26  Road track BMX mountain and many more  there a...\n",
            "27  Got a big cycling race coming up Make sure you...\n",
            "https://www.bbc.com/sport/gymnastics/65426779\n",
            "                                                    0\n",
            "0   Last updated on 29 April 202329 April 2023From...\n",
            "1   Adam Yates became the third British rider in f...\n",
            "2   The 30yearold won Saturdays stage four in the ...\n",
            "3   Yates has a 19second lead on American Matteo J...\n",
            "4   Britons Ethan Vernon and Ethan Hayter won stag...\n",
            "..                                                ...\n",
            "94  Tales of tears triumphs occasional debauchery ...\n",
            "95  Darragh MacIntyre and Allison Morris revisit t...\n",
            "96  Gary Lineker Micah Richards and Alan Shearer d...\n",
            "97  Take our quiz learn a thing or two then get yo...\n",
            "98  Check out the BBC Sport Live Guide for details...\n",
            "\n",
            "[99 rows x 1 columns]\n",
            "https://www.bbc.com/sport/football/65460670\n",
            "                                                     0\n",
            "0    Last updated on 29 April 202329 April 2023From...\n",
            "1    Adam Yates became the third British rider in f...\n",
            "2    The 30yearold won Saturdays stage four in the ...\n",
            "3    Yates has a 19second lead on American Matteo J...\n",
            "4    Britons Ethan Vernon and Ethan Hayter won stag...\n",
            "..                                                 ...\n",
            "127  Gary Lineker Micah Richards and Alan Shearer d...\n",
            "128  Everything you need to know to make sure you n...\n",
            "129  The latest rumours and stories from around the...\n",
            "130  Analysis and opinion from our chief football w...\n",
            "131  How to get into football  the most popular spo...\n",
            "\n",
            "[132 rows x 1 columns]\n",
            "https://www.bbc.com/sport/cricket/65460563\n",
            "                                                     0\n",
            "0    Last updated on 29 April 202329 April 2023From...\n",
            "1    Adam Yates became the third British rider in f...\n",
            "2    The 30yearold won Saturdays stage four in the ...\n",
            "3    Yates has a 19second lead on American Matteo J...\n",
            "4    Britons Ethan Vernon and Ethan Hayter won stag...\n",
            "..                                                 ...\n",
            "139  Darragh MacIntyre and Allison Morris revisit t...\n",
            "140  Gary Lineker Micah Richards and Alan Shearer d...\n",
            "141  Want to get into cricket This BBC Sport guide ...\n",
            "142  Analysis and opinion from the BBCs cricket cor...\n",
            "143  Get latest scores and headlines sent straight ...\n",
            "\n",
            "[144 rows x 1 columns]\n",
            "https://www.bbc.com/sport/football/65428602\n",
            "                                                     0\n",
            "0    Last updated on 29 April 202329 April 2023From...\n",
            "1    Adam Yates became the third British rider in f...\n",
            "2    The 30yearold won Saturdays stage four in the ...\n",
            "3    Yates has a 19second lead on American Matteo J...\n",
            "4    Britons Ethan Vernon and Ethan Hayter won stag...\n",
            "..                                                 ...\n",
            "173  Ive loved my time here What will be will be bu...\n",
            "174  Revelatory documentary detailing life in the J...\n",
            "175  Tales of tears triumphs occasional debauchery ...\n",
            "176  Darragh MacIntyre and Allison Morris revisit t...\n",
            "177  Gary Lineker Micah Richards and Alan Shearer d...\n",
            "\n",
            "[178 rows x 1 columns]\n",
            "https://www.bbc.com/sport/rugby-union/65443075\n",
            "                                                     0\n",
            "0    Last updated on 29 April 202329 April 2023From...\n",
            "1    Adam Yates became the third British rider in f...\n",
            "2    The 30yearold won Saturdays stage four in the ...\n",
            "3    Yates has a 19second lead on American Matteo J...\n",
            "4    Britons Ethan Vernon and Ethan Hayter won stag...\n",
            "..                                                 ...\n",
            "210  We are excited to get stuck in with them and s...\n",
            "211  Revelatory documentary detailing life in the J...\n",
            "212  Tales of tears triumphs occasional debauchery ...\n",
            "213  Darragh MacIntyre and Allison Morris revisit t...\n",
            "214  Gary Lineker Micah Richards and Alan Shearer d...\n",
            "\n",
            "[215 rows x 1 columns]\n",
            "https://www.bbc.com/sport/american-football/65447163\n",
            "                                                     0\n",
            "0    Last updated on 29 April 202329 April 2023From...\n",
            "1    Adam Yates became the third British rider in f...\n",
            "2    The 30yearold won Saturdays stage four in the ...\n",
            "3    Yates has a 19second lead on American Matteo J...\n",
            "4    Britons Ethan Vernon and Ethan Hayter won stag...\n",
            "..                                                 ...\n",
            "251  Kansas CIty Chiefs quarterback Patrick Mahomes...\n",
            "252  The race to compete in Super Bowl 57 is under ...\n",
            "253  Watch quarterback Jalen Hurts best plays from ...\n",
            "254  Are you an NFL rookie If so watch our guide to...\n",
            "255  How to get into American football  a sport for...\n",
            "\n",
            "[256 rows x 1 columns]\n",
            "https://www.bbc.com/sport/football/65443151\n",
            "                                                     0\n",
            "0    Last updated on 29 April 202329 April 2023From...\n",
            "1    Adam Yates became the third British rider in f...\n",
            "2    The 30yearold won Saturdays stage four in the ...\n",
            "3    Yates has a 19second lead on American Matteo J...\n",
            "4    Britons Ethan Vernon and Ethan Hayter won stag...\n",
            "..                                                 ...\n",
            "298  Gary Lineker Micah Richards and Alan Shearer d...\n",
            "299  Everything you need to know to make sure you n...\n",
            "300  The latest rumours and stories from around the...\n",
            "301  Analysis and opinion from our chief football w...\n",
            "302  How to get into football  the most popular spo...\n",
            "\n",
            "[303 rows x 1 columns]\n",
            "https://www.bbc.com/sport/boxing/65309816\n",
            "                                                     0\n",
            "0    Last updated on 29 April 202329 April 2023From...\n",
            "1    Adam Yates became the third British rider in f...\n",
            "2    The 30yearold won Saturdays stage four in the ...\n",
            "3    Yates has a 19second lead on American Matteo J...\n",
            "4    Britons Ethan Vernon and Ethan Hayter won stag...\n",
            "..                                                 ...\n",
            "355  Christie suggests for the biggest fights an in...\n",
            "356  Revelatory documentary detailing life in the J...\n",
            "357  Tales of tears triumphs occasional debauchery ...\n",
            "358  Darragh MacIntyre and Allison Morris revisit t...\n",
            "359  Gary Lineker Micah Richards and Alan Shearer d...\n",
            "\n",
            "[360 rows x 1 columns]\n",
            "https://www.bbc.com/sport/football/65438469\n",
            "                                                     0\n",
            "0    Last updated on 29 April 202329 April 2023From...\n",
            "1    Adam Yates became the third British rider in f...\n",
            "2    The 30yearold won Saturdays stage four in the ...\n",
            "3    Yates has a 19second lead on American Matteo J...\n",
            "4    Britons Ethan Vernon and Ethan Hayter won stag...\n",
            "..                                                 ...\n",
            "403  Gary Lineker Micah Richards and Alan Shearer d...\n",
            "404  Everything you need to know to make sure you n...\n",
            "405  The latest rumours and stories from around the...\n",
            "406  Analysis and opinion from our chief football w...\n",
            "407  How to get into football  the most popular spo...\n",
            "\n",
            "[408 rows x 1 columns]\n"
          ]
        }
      ]
    }
  ],
  "metadata": {
    "kernelspec": {
      "display_name": "Python 3 (ipykernel)",
      "language": "python",
      "name": "python3"
    },
    "language_info": {
      "codemirror_mode": {
        "name": "ipython",
        "version": 3
      },
      "file_extension": ".py",
      "mimetype": "text/x-python",
      "name": "python",
      "nbconvert_exporter": "python",
      "pygments_lexer": "ipython3",
      "version": "3.10.9"
    },
    "colab": {
      "provenance": [],
      "include_colab_link": true
    }
  },
  "nbformat": 4,
  "nbformat_minor": 5
}